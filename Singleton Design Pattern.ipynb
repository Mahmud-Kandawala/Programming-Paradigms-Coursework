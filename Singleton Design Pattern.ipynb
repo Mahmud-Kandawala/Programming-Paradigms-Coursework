{
  "nbformat": 4,
  "nbformat_minor": 0,
  "metadata": {
    "colab": {
      "provenance": []
    },
    "kernelspec": {
      "name": "python3",
      "display_name": "Python 3"
    },
    "language_info": {
      "name": "python"
    }
  },
  "cells": [
    {
      "cell_type": "code",
      "execution_count": 26,
      "metadata": {
        "colab": {
          "base_uri": "https://localhost:8080/"
        },
        "id": "Mav54L331zYP",
        "outputId": "74dde4a2-f420-4277-a3b0-97e77458bf01"
      },
      "outputs": [
        {
          "output_type": "stream",
          "name": "stdout",
          "text": [
            "The government of United States is an excellent example of the Singleton pattern.\n",
            "Country: United States\n",
            "Capital: Washington D.C.\n",
            "Leader: President Biden\n",
            "A country can have only one official government.\n",
            "Regardless of the personal identities of the individuals who form governments, the title, 'The Government of United States', is a global point of access that identifies the group of people in charge.\n",
            "Changing leader of United States government from President Biden to President Harris.\n",
            "Updated information:\n",
            "The government of United States is an excellent example of the Singleton pattern.\n",
            "Country: United States\n",
            "Capital: Washington D.C.\n",
            "Leader: President Harris\n",
            "A country can have only one official government.\n",
            "Regardless of the personal identities of the individuals who form governments, the title, 'The Government of United States', is a global point of access that identifies the group of people in charge.\n",
            "GDP of United States: 1000\n"
          ]
        }
      ],
      "source": [
        "class Government:\n",
        "    _instance = None\n",
        "\n",
        "    def __init__(self, country, capital, leader):\n",
        "        self.country = country\n",
        "        self.capital = capital\n",
        "        self.leader = leader\n",
        "\n",
        "    @classmethod\n",
        "    def get_instance(cls, country, capital, leader):\n",
        "        if cls._instance is None:\n",
        "            cls._instance = cls(country, capital, leader)\n",
        "        return cls._instance\n",
        "\n",
        "    def display_info(self):\n",
        "        print(f\"The government of {self.country} is an excellent example of the Singleton pattern.\")\n",
        "        print(f\"Country: {self.country}\")\n",
        "        print(f\"Capital: {self.capital}\")\n",
        "        print(f\"Leader: {self.leader}\")\n",
        "        print(f\"A country can have only one official government.\")\n",
        "        print(f\"Regardless of the personal identities of the individuals who form governments, the title, 'The Government of {self.country}', is a global point of access that identifies the group of people in charge.\")\n",
        "\n",
        "    def change_leader(self, new_leader):\n",
        "        print(f\"Changing leader of {self.country} government from {self.leader} to {new_leader}.\")\n",
        "        self.leader = new_leader\n",
        "\n",
        "    def get_gdp(self):\n",
        "        # Dummy function to calculate GDP (just for illustration)\n",
        "        gdp = 1000  # Placeholder value\n",
        "        return gdp\n",
        "\n",
        "# Example usage:\n",
        "def main():\n",
        "    # Creating instance of Government\n",
        "    government = Government.get_instance(\"United States\", \"Washington D.C.\", \"President Biden\")\n",
        "\n",
        "    # Display information\n",
        "    government.display_info()\n",
        "\n",
        "    # Change leader\n",
        "    government.change_leader(\"President Harris\")\n",
        "    print(\"Updated information:\")\n",
        "    government.display_info()\n",
        "\n",
        "    # Get GDP\n",
        "    gdp = government.get_gdp()\n",
        "    print(f\"GDP of {government.country}: {gdp}\")\n",
        "\n",
        "if __name__ == \"__main__\":\n",
        "    main()\n"
      ]
    }
  ]
}