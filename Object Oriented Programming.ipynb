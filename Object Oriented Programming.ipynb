{
  "nbformat": 4,
  "nbformat_minor": 0,
  "metadata": {
    "colab": {
      "provenance": []
    },
    "kernelspec": {
      "name": "python3",
      "display_name": "Python 3"
    },
    "language_info": {
      "name": "python"
    }
  },
  "cells": [
    {
      "cell_type": "code",
      "execution_count": 2,
      "metadata": {
        "colab": {
          "base_uri": "https://localhost:8080/"
        },
        "id": "uOjT7pMcoBG7",
        "outputId": "ba466e93-c3c6-4662-c7d3-ecd3cbc0d21a"
      },
      "outputs": [
        {
          "output_type": "stream",
          "name": "stdout",
          "text": [
            "chuck\n",
            "chuck\n",
            "chuck\n"
          ]
        }
      ],
      "source": [
        "stuff = list()\n",
        "stuff.append('python')\n",
        "stuff.append('chuck')\n",
        "stuff.sort()\n",
        "print(stuff[0])\n",
        "print(stuff.__getitem__(0))\n",
        "print(list.__getitem__(stuff,0))"
      ]
    },
    {
      "cell_type": "code",
      "source": [
        "print(stuff.__getitem__(0))\n",
        "print(list.__getitem__(stuff,0))"
      ],
      "metadata": {
        "colab": {
          "base_uri": "https://localhost:8080/"
        },
        "id": "6vUgUUwH5QiE",
        "outputId": "09cc954b-972b-40c0-c20c-ac7f02e364b6"
      },
      "execution_count": 3,
      "outputs": [
        {
          "output_type": "stream",
          "name": "stdout",
          "text": [
            "chuck\n",
            "chuck\n"
          ]
        }
      ]
    },
    {
      "cell_type": "code",
      "source": [
        "stuff = list()\n",
        "dir(stuff)"
      ],
      "metadata": {
        "colab": {
          "base_uri": "https://localhost:8080/"
        },
        "id": "VHk3tpi05a-a",
        "outputId": "c7fa4343-4d75-4f49-c88c-8aaa9f02730b"
      },
      "execution_count": 4,
      "outputs": [
        {
          "output_type": "execute_result",
          "data": {
            "text/plain": [
              "['__add__',\n",
              " '__class__',\n",
              " '__class_getitem__',\n",
              " '__contains__',\n",
              " '__delattr__',\n",
              " '__delitem__',\n",
              " '__dir__',\n",
              " '__doc__',\n",
              " '__eq__',\n",
              " '__format__',\n",
              " '__ge__',\n",
              " '__getattribute__',\n",
              " '__getitem__',\n",
              " '__gt__',\n",
              " '__hash__',\n",
              " '__iadd__',\n",
              " '__imul__',\n",
              " '__init__',\n",
              " '__init_subclass__',\n",
              " '__iter__',\n",
              " '__le__',\n",
              " '__len__',\n",
              " '__lt__',\n",
              " '__mul__',\n",
              " '__ne__',\n",
              " '__new__',\n",
              " '__reduce__',\n",
              " '__reduce_ex__',\n",
              " '__repr__',\n",
              " '__reversed__',\n",
              " '__rmul__',\n",
              " '__setattr__',\n",
              " '__setitem__',\n",
              " '__sizeof__',\n",
              " '__str__',\n",
              " '__subclasshook__',\n",
              " 'append',\n",
              " 'clear',\n",
              " 'copy',\n",
              " 'count',\n",
              " 'extend',\n",
              " 'index',\n",
              " 'insert',\n",
              " 'pop',\n",
              " 'remove',\n",
              " 'reverse',\n",
              " 'sort']"
            ]
          },
          "metadata": {},
          "execution_count": 4
        }
      ]
    },
    {
      "cell_type": "code",
      "source": [
        "class PartyAnimal: # class name\n",
        "  def __init__(self): # constructor (instructions to create an object)\n",
        "    self.x = 0 # attribute, default, (instance variable)\n",
        "    print(\"Created an object of class PartyAnimal\")\n",
        "\n",
        "  def party(self): # method of class PartyAnimal\n",
        "    self.x = self.x + 1 # making use of an attribute\n",
        "    print(\"So far\", self.x)\n",
        "\n",
        "\n",
        "an  = PartyAnimal() # create an object of class party animal\n",
        "an.party() # call the party method from our class of object\n",
        "an.party()\n",
        "an.party()\n",
        "\n",
        "\n",
        "\n",
        "\n"
      ],
      "metadata": {
        "colab": {
          "base_uri": "https://localhost:8080/"
        },
        "id": "xHlDdzak5dGU",
        "outputId": "3e49b055-caca-4cc0-84ee-e2f6de215522"
      },
      "execution_count": 6,
      "outputs": [
        {
          "output_type": "stream",
          "name": "stdout",
          "text": [
            "Created an object of class PartyAnimal\n",
            "So far 1\n",
            "So far 2\n",
            "So far 3\n"
          ]
        }
      ]
    },
    {
      "cell_type": "code",
      "source": [
        "another = PartyAnimal()\n",
        "print (\"Type\", type(another))\n",
        "print (\"Dir \", dir(another))\n",
        "print (\"Attribute Type\", type(another.x))\n",
        "print (\"Method Type\", type(another.party))"
      ],
      "metadata": {
        "colab": {
          "base_uri": "https://localhost:8080/"
        },
        "id": "ODsfp09N637C",
        "outputId": "de1ae5bb-9fe6-41bf-be27-81a31afdda44"
      },
      "execution_count": 8,
      "outputs": [
        {
          "output_type": "stream",
          "name": "stdout",
          "text": [
            "Created an object of class PartyAnimal\n",
            "Type <class '__main__.PartyAnimal'>\n",
            "Dir  ['__class__', '__delattr__', '__dict__', '__dir__', '__doc__', '__eq__', '__format__', '__ge__', '__getattribute__', '__gt__', '__hash__', '__init__', '__init_subclass__', '__le__', '__lt__', '__module__', '__ne__', '__new__', '__reduce__', '__reduce_ex__', '__repr__', '__setattr__', '__sizeof__', '__str__', '__subclasshook__', '__weakref__', 'party', 'x']\n",
            "Attribute Type <class 'int'>\n",
            "Method Type <class 'method'>\n"
          ]
        }
      ]
    },
    {
      "cell_type": "code",
      "source": [
        "class StudySession:\n",
        "    def __init__(self):\n",
        "        self.count = 0\n",
        "        print('Study session started, the object is being constructed.')\n",
        "\n",
        "    def studyForOneHour(self):\n",
        "      self.count += 1\n",
        "      print('Hours studied:', self.count)\n",
        "\n",
        "    def studyForGivenNumberOfHours(self, numberOfHours):\n",
        "      self.count += numberOfHours\n",
        "      print(f'Hours studied: {self.count}')\n",
        "\n",
        "    def __del__(self):\n",
        "      print('The study session has ended after', {self.count}, 'hours')"
      ],
      "metadata": {
        "id": "D-GXzVzs73em"
      },
      "execution_count": 10,
      "outputs": []
    },
    {
      "cell_type": "code",
      "source": [
        "session = StudySession() #0\n",
        "session.studyForOneHour() #1\n",
        "session.studyForOneHour() #2\n",
        "\n",
        "session.studyForGivenNumberOfHours(3) #5\n",
        "# prior to overriding the object will call it's __del__(deconstructor)\n",
        "session = \"done studying\" # overrides the \"object\" we created in the variablve session.\n",
        "print(\"session contains\", session) # output \"done studying\""
      ],
      "metadata": {
        "colab": {
          "base_uri": "https://localhost:8080/"
        },
        "id": "EqrAE6ZJ9BeJ",
        "outputId": "6ad25a5a-7d1c-4d7b-ce8a-fb6179778775"
      },
      "execution_count": 16,
      "outputs": [
        {
          "output_type": "stream",
          "name": "stdout",
          "text": [
            "Study session started, the object is being constructed.\n",
            "Hours studied: 1\n",
            "Hours studied: 2\n",
            "Hours studied: 5\n",
            "The study session has ended after {5} hours\n",
            "session contains done studying\n"
          ]
        }
      ]
    },
    {
      "cell_type": "code",
      "source": [
        "class bookClubMember:\n",
        "    def __init__(self, member_name):\n",
        "        self.read_count = 0\n",
        "        self.name = member_name\n",
        "\n",
        "    def read(self):\n",
        "      self.read_count += 1\n",
        "      print(self.name, \"has read\", self.read_count, 'books.')\n",
        "\n",
        "alice = bookClubMember('Alice')\n",
        "alice.read()\n",
        "\n",
        "bob = bookClubMember('Bob')\n",
        "bob.read()\n",
        "alice.read()\n",
        "\n",
        "# alice 2, bob 1"
      ],
      "metadata": {
        "colab": {
          "base_uri": "https://localhost:8080/"
        },
        "id": "301TvUc3-7-d",
        "outputId": "0a2dab7d-d78a-4ce1-87f2-f271428c7744"
      },
      "execution_count": 20,
      "outputs": [
        {
          "output_type": "stream",
          "name": "stdout",
          "text": [
            "Alice has read 1 books.\n",
            "Bob has read 1 books.\n",
            "Alice has read 2 books.\n"
          ]
        }
      ]
    },
    {
      "cell_type": "code",
      "source": [
        "class bookReviewer(bookClubMember):\n",
        "    def __init__(self, member_name):\n",
        "        super().__init__(member_name)\n",
        "        self.review_count = 0\n",
        "\n",
        "    def review(self):\n",
        "      self.read() # assume that maybe reviewing a book requires reading...\n",
        "      self.review_count += 1\n",
        "      print(self.name, \"has reviewed\", self.review_count, \"books.\")\n",
        "\n",
        "sally = bookClubMember(\"Sally\")\n",
        "sally.read()\n",
        "\n",
        "jim = bookReviewer(\"Jim\")\n",
        "jim.read()  # Jim reads a book\n",
        "jim.review() # Jim reviews a book\n",
        "\n",
        "print(dir(jim))"
      ],
      "metadata": {
        "colab": {
          "base_uri": "https://localhost:8080/"
        },
        "id": "aLMJ44-8_76g",
        "outputId": "5c55a9c7-cfcf-4438-a37f-aeb131e2f1b0"
      },
      "execution_count": 22,
      "outputs": [
        {
          "output_type": "stream",
          "name": "stdout",
          "text": [
            "Sally has read 1 books.\n",
            "Jim has read 1 books.\n",
            "Jim has read 2 books.\n",
            "Jim has reviewed 1 books.\n",
            "['__class__', '__delattr__', '__dict__', '__dir__', '__doc__', '__eq__', '__format__', '__ge__', '__getattribute__', '__gt__', '__hash__', '__init__', '__init_subclass__', '__le__', '__lt__', '__module__', '__ne__', '__new__', '__reduce__', '__reduce_ex__', '__repr__', '__setattr__', '__sizeof__', '__str__', '__subclasshook__', '__weakref__', 'name', 'read', 'read_count', 'review', 'review_count']\n"
          ]
        }
      ]
    }
  ]
}