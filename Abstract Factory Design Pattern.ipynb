{
  "nbformat": 4,
  "nbformat_minor": 0,
  "metadata": {
    "colab": {
      "provenance": []
    },
    "kernelspec": {
      "name": "python3",
      "display_name": "Python 3"
    },
    "language_info": {
      "name": "python"
    }
  },
  "cells": [
    {
      "cell_type": "code",
      "execution_count": 4,
      "metadata": {
        "id": "oy_FIkrin6Nt"
      },
      "outputs": [],
      "source": [
        "from __future__ import annotations\n",
        "from abc import ABC, abstractmethod"
      ]
    },
    {
      "cell_type": "code",
      "source": [
        "class AbstractFactory(ABC):\n",
        "  \"\"\"\n",
        "  The factory in interface declares a set of methods and returns differnt abstract\n",
        "  products related to chairs. These products might include the *chair* itself, perhaps some *accessoires*,\n",
        "  but all of those would be related to a design themes or some kind of ergonomic style.\n",
        "  \"\"\"\n",
        "\n",
        "  @abstractmethod\n",
        "  def create_chair(self) -> AbstractChair:\n",
        "    pass\n",
        "\n",
        "  @abstractmethod\n",
        "  def create_accessory(self) -> AbstractAccessory:\n",
        "    pass\n",
        "\n",
        "\n",
        "class ModernChairFactory(AbstractFactory):\n",
        "  \"\"\"\n",
        "  A concrete factory producing a modern type of chairs and their accessiores\n",
        "  \"\"\"\n",
        "\n",
        "  def create_chair(self) -> AbstractChair:\n",
        "    return ModernChair()\n",
        "\n",
        "  def create_accessory(self) -> AbstractAccessory:\n",
        "    return ModernCushion()\n",
        "\n",
        "\n",
        "class VictorianChairFactory(AbstractFactory):\n",
        "  \"\"\"\n",
        "  A concrete factory producing a modern type of chairs and their accessiores\n",
        "  \"\"\"\n",
        "  def create_chair(self) -> AbstractChair:\n",
        "    return VictorianChair()\n",
        "\n",
        "  def create_accessory(self) -> AbstractAccessory:\n",
        "    return VictorianCushion()\n",
        "\n",
        "\n",
        "class AbstractChair(ABC):\n",
        "   \"\"\"\n",
        "  Base interface for a chair product. By virtue of this all chair varaints will\n",
        "  implement theis interface.\n",
        "    \"\"\"\n",
        "   @abstractmethod\n",
        "   def sit_on(self) -> str:\n",
        "    pass\n",
        "\n",
        "\n",
        "class AbstractAccessory(ABC):\n",
        "  \"\"\"\n",
        "Basic interface for a chair accessory, like cushions\n",
        "  \"\"\"\n",
        "  @abstractmethod\n",
        "  def complement(self) -> None:\n",
        "    pass\n",
        "\n",
        "\n",
        "class ModernChair(AbstractChair):\n",
        "  def sit_on(self) -> str:\n",
        "    return \"Sitting on a modern chair.\"\n",
        "\n",
        "\n",
        "class ModernCushion(AbstractAccessory):\n",
        "  def complement(self) -> str:\n",
        "    return \"Complementing with a modern cushion.\"\n",
        "\n",
        "\n",
        "\n",
        "class VictorianChair(AbstractChair):\n",
        "  def sit_on(self) -> str:\n",
        "    return \"Sitting on a victorian chair.\"\n",
        "\n",
        "\n",
        "class  VictorianCushion(AbstractAccessory):\n",
        "  def complement(self) -> str:\n",
        "    return \"Complementing with a victorian cushion.\"\n",
        "\n",
        "\n",
        "def client_code(factory: AbstractFactory) -> None:\n",
        "  \"\"\"\n",
        "The client code works with factories and products only through their abstracts types: AbstractFactory, AbstractChair and AbstractAccessory.\n",
        "This allows any factory or product subclass to be passed to the client code without breaking it.\n",
        "  \"\"\"\n",
        "  chair = factory.create_chair()\n",
        "  accessory = factory.create_accessory()\n",
        "\n",
        "  print(f\"{chair.sit_on()}\")\n",
        "  print(f\"{accessory.complement()}\")\n",
        "\n",
        "\n",
        "\n",
        "if __name__ == \"__main__\":\n",
        "  print(\"Client: Testing client code with the ModernChairFactory\")\n",
        "  client_code(ModernChairFactory())\n",
        "  print(\"\\n\")\n",
        "\n",
        "  print(\"Client: Testing client code with the VictorianChairFactory\")\n",
        "  client_code(VictorianChairFactory())"
      ],
      "metadata": {
        "colab": {
          "base_uri": "https://localhost:8080/"
        },
        "id": "C2ES_kXu90h9",
        "outputId": "4aa86515-b41d-46e2-f046-7c2f96673928"
      },
      "execution_count": 10,
      "outputs": [
        {
          "output_type": "stream",
          "name": "stdout",
          "text": [
            "Client: Testing client code with the ModernChairFactory\n",
            "Sitting on a modern chair.\n",
            "Complementing with a modern cushion.\n",
            "\n",
            "\n",
            "Client: Testing client code with the VictorianChairFactory\n",
            "Sitting on a victorian chair.\n",
            "Complementing with a victorian cushion.\n"
          ]
        }
      ]
    }
  ]
}