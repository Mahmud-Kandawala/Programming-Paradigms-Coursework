{
  "nbformat": 4,
  "nbformat_minor": 0,
  "metadata": {
    "colab": {
      "provenance": []
    },
    "kernelspec": {
      "name": "python3",
      "display_name": "Python 3"
    },
    "language_info": {
      "name": "python"
    }
  },
  "cells": [
    {
      "cell_type": "code",
      "execution_count": 1,
      "metadata": {
        "id": "Y66yn_MqyRD_"
      },
      "outputs": [],
      "source": [
        "from __future__ import annotations\n",
        "from abc import ABC, abstractmethod\n",
        "from typing import Any"
      ]
    },
    {
      "cell_type": "code",
      "source": [
        "class MealBuilder(ABC):\n",
        "    \"\"\"\n",
        "    The MealBuilder interface specifies methods for creating the different parts of\n",
        "    the Meal objects.\n",
        "    \"\"\"\n",
        "\n",
        "\n",
        "    @property\n",
        "    @abstractmethod\n",
        "    def meal(self) -> None:\n",
        "        pass\n",
        "\n",
        "\n",
        "    @abstractmethod\n",
        "    def prepare_starter(self) -> None:\n",
        "        pass\n",
        "\n",
        "\n",
        "    @abstractmethod\n",
        "    def prepare_main_course(self) -> None:\n",
        "        pass\n",
        "\n",
        "\n",
        "    @abstractmethod\n",
        "    def prepare_dessert(self) -> None:\n",
        "        pass"
      ],
      "metadata": {
        "id": "1w0_t8_qzN87"
      },
      "execution_count": 2,
      "outputs": []
    },
    {
      "cell_type": "code",
      "source": [
        "class ItalianMealBuilder(MealBuilder):\n",
        "    \"\"\"\n",
        "    Concrete Meal Builders follow the MealBuilder interface and provide\n",
        "    specific implementations of the building steps for different types of meals.\n",
        "    \"\"\"\n",
        "\n",
        "\n",
        "    def __init__(self) -> None:\n",
        "        self.reset()\n",
        "\n",
        "\n",
        "    def reset(self) -> None:\n",
        "        self._meal = ItalianMeal()\n",
        "\n",
        "\n",
        "    @property\n",
        "    def meal(self) -> ItalianMeal:\n",
        "        meal = self._meal\n",
        "        self.reset()\n",
        "        return meal\n",
        "\n",
        "\n",
        "    def prepare_starter(self) -> None:\n",
        "        self._meal.add(\"Bruschetta\")\n",
        "\n",
        "\n",
        "    def prepare_main_course(self) -> None:\n",
        "        self._meal.add(\"Spaghetti Carbonara\")\n",
        "\n",
        "\n",
        "    def prepare_dessert(self) -> None:\n",
        "        self._meal.add(\"Tiramisu\")"
      ],
      "metadata": {
        "id": "E8L9tfI3zTiG"
      },
      "execution_count": 3,
      "outputs": []
    },
    {
      "cell_type": "code",
      "source": [
        "class ItalianMeal():\n",
        "    \"\"\"\n",
        "    Concrete products created by the corresponding Concrete Builders.\n",
        "    \"\"\"\n",
        "\n",
        "\n",
        "    def __init__(self) -> None:\n",
        "        self.parts = []\n",
        "\n",
        "\n",
        "    def add(self, part: Any) -> None:\n",
        "        self.parts.append(part)\n",
        "\n",
        "\n",
        "    def list_parts(self) -> None:\n",
        "        print(f\"Meal components: {', '.join(self.parts)}\", end=\"\")"
      ],
      "metadata": {
        "id": "9NxvqeQnzWFx"
      },
      "execution_count": 4,
      "outputs": []
    },
    {
      "cell_type": "code",
      "source": [
        "class CulinaryDirector:\n",
        "    \"\"\"\n",
        "    The CulinaryDirector is responsible for executing the building steps in a\n",
        "    particular sequence. It is crucial when preparing meals according to\n",
        "    specific recipes or configurations.\n",
        "    \"\"\"\n",
        "\n",
        "\n",
        "    def __init__(self) -> None:\n",
        "        self._builder = None\n",
        "\n",
        "\n",
        "    @property\n",
        "    def builder(self) -> MealBuilder:\n",
        "        return self._builder\n",
        "\n",
        "\n",
        "    @builder.setter\n",
        "    def builder(self, builder: MealBuilder) -> None:\n",
        "        self._builder = builder\n",
        "\n",
        "\n",
        "    def prepare_basic_meal(self) -> None:\n",
        "        self.builder.prepare_main_course()\n",
        "\n",
        "\n",
        "    def prepare_full_meal(self) -> None:\n",
        "        self.builder.prepare_starter()\n",
        "        self.builder.prepare_main_course()\n",
        "        self.builder.prepare_dessert()\n"
      ],
      "metadata": {
        "id": "OmfgAOyIzZ9v"
      },
      "execution_count": 5,
      "outputs": []
    },
    {
      "cell_type": "code",
      "source": [
        "if __name__ == \"__main__\":\n",
        "    director = CulinaryDirector()\n",
        "    builder = ItalianMealBuilder()\n",
        "    director.builder = builder\n",
        "\n",
        "\n",
        "    print(\"Basic meal: \")\n",
        "    director.prepare_basic_meal()\n",
        "    builder.meal.list_parts()\n",
        "\n",
        "\n",
        "    print(\"\\n\")\n",
        "\n",
        "\n",
        "    print(\"Full Italian meal: \")\n",
        "    director.prepare_full_meal()\n",
        "    builder.meal.list_parts()\n",
        "\n",
        "\n",
        "    print(\"\\n\")\n",
        "\n",
        "\n",
        "    # Demonstrating usage without the CulinaryDirector.\n",
        "    print(\"Custom meal: \")\n",
        "    builder.prepare_starter()\n",
        "    builder.prepare_dessert()  # Maybe you only want a starter and dessert.\n",
        "    builder.meal.list_parts()"
      ],
      "metadata": {
        "colab": {
          "base_uri": "https://localhost:8080/"
        },
        "id": "6p1QxV43zctb",
        "outputId": "524ecb67-1297-4622-e41f-1286abd74990"
      },
      "execution_count": 6,
      "outputs": [
        {
          "output_type": "stream",
          "name": "stdout",
          "text": [
            "Basic meal: \n",
            "Meal components: Spaghetti Carbonara\n",
            "\n",
            "Full Italian meal: \n",
            "Meal components: Bruschetta, Spaghetti Carbonara, Tiramisu\n",
            "\n",
            "Custom meal: \n",
            "Meal components: Bruschetta, Tiramisu"
          ]
        }
      ]
    }
  ]
}